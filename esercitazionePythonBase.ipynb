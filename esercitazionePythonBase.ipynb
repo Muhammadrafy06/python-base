{
  "nbformat": 4,
  "nbformat_minor": 0,
  "metadata": {
    "colab": {
      "provenance": [],
      "collapsed_sections": [],
      "authorship_tag": "ABX9TyNXZfr9ttvxeBPE5vQvYpOS",
      "include_colab_link": true
    },
    "kernelspec": {
      "name": "python3",
      "display_name": "Python 3"
    },
    "language_info": {
      "name": "python"
    }
  },
  "cells": [
    {
      "cell_type": "markdown",
      "metadata": {
        "id": "view-in-github",
        "colab_type": "text"
      },
      "source": [
        "<a href=\"https://colab.research.google.com/github/Muhammadrafy06/python/blob/main/Untitled0.ipynb\" target=\"_parent\"><img src=\"https://colab.research.google.com/assets/colab-badge.svg\" alt=\"Open In Colab\"/></a>"
      ]
    },
    {
      "cell_type": "code",
      "execution_count": null,
      "metadata": {
        "colab": {
          "base_uri": "https://localhost:8080/"
        },
        "id": "Bzj_cU2qA91y",
        "outputId": "8fdd310c-7d43-47d5-d950-c0c6d8368e9c"
      },
      "outputs": [
        {
          "output_type": "stream",
          "name": "stdout",
          "text": [
            "hello world\n"
          ]
        }
      ],
      "source": [
        "import os\n",
        "     \n",
        "#stampa cose\n",
        "#def funzione(isTrue):\n",
        " # if isTrue == false:\n",
        " #      print(\"false\")\n",
        "  # elif isTrue == true:\n",
        " #         print(\"false\")\n",
        "#funzione()\n"
      ]
    },
    {
      "cell_type": "code",
      "source": [
        "a = 10\n",
        "b = 20\n",
        "c = 10.5\n",
        "print(a + b)"
      ],
      "metadata": {
        "colab": {
          "base_uri": "https://localhost:8080/"
        },
        "id": "Lx0lsTz_ErC-",
        "outputId": "6ce1085f-64b0-4d57-9d67-834da32c3839"
      },
      "execution_count": null,
      "outputs": [
        {
          "output_type": "stream",
          "name": "stdout",
          "text": [
            "30\n"
          ]
        }
      ]
    },
    {
      "cell_type": "code",
      "source": [
        "somma = a + b \n",
        "sottrazione = a -  b\n",
        "moltiplicazione = a * b\n",
        "divisione = a / b\n",
        "\n",
        "\n",
        "print(somma,sottrazione,moltiplicazione,divisione)"
      ],
      "metadata": {
        "id": "WgFXpyDlFLWE"
      },
      "execution_count": null,
      "outputs": []
    },
    {
      "cell_type": "code",
      "source": [
        "from prompt_toolkit.layout.menus import math\n",
        "from prompt_toolkit.widgets.menus import Float\n",
        "\n",
        "status = \"\"\n",
        "\n",
        "\n",
        "# inserimento dei dati\n",
        "peso = input(\"inserisci peso: \")\n",
        "altezza = input(\"inserisci la tua altezza: \")\n",
        "imc =int(peso) / (float(altezza) * float(altezza))\n",
        "\n",
        "print(\"il tuo indice di massa corporea è di: \",imc)\n"
      ],
      "metadata": {
        "id": "BlVh_zmzFv_F",
        "colab": {
          "base_uri": "https://localhost:8080/"
        },
        "outputId": "6cefb579-91aa-4ed6-9aff-cb9323f94928"
      },
      "execution_count": null,
      "outputs": [
        {
          "output_type": "stream",
          "name": "stdout",
          "text": [
            "inserisci peso: 80\n",
            "inserisci la tua altezza: 1.74\n",
            "il tuo indice di massa corporea è di:  26.42356982428326\n"
          ]
        }
      ]
    },
    {
      "cell_type": "code",
      "source": [
        "#scrivere un programma che calcoli le tasse da pagare\n",
        "#se reddito è inferiore a 30000 euro  si paga 15%\n",
        "#se il reddito è compreso tra 30000 e 60000 si paga il 20%\n",
        "#se il reddito è superiore a 60000 si paga il 30%\n",
        "\n",
        "\n",
        "reddito = int(input(\"inserisci il tuo reddito\"))\n",
        "#def switch(reddito):\n",
        "#    if reddito < 30000:\n",
        "#     return reddito == (reddito / 100) * 15\n",
        "#  elif reddito < 60000 and reddito > 30000:\n",
        "#   return reddito == (reddito / 100) * 20\n",
        "#  elif reddito > 60000:\n",
        "#     return reddito == (reddito / 100) * 30\n",
        "if reddito < 30000:\n",
        "     reddito = (reddito / 100) * 15\n",
        "elif reddito > 30000 and reddito < 60000:\n",
        "     reddito = (reddito / 100) * 15\n",
        "elif reddito > 60000:\n",
        "     reddito = (reddito / 100) * 15\n",
        "\n",
        "print(\"la tassa che devi pagare è di: \", reddito)\n",
        "\n"
      ],
      "metadata": {
        "id": "4V2skbXHOU8M",
        "colab": {
          "base_uri": "https://localhost:8080/"
        },
        "outputId": "cc00906f-1fde-4413-b3c1-a1aeef18ebb5"
      },
      "execution_count": null,
      "outputs": [
        {
          "output_type": "stream",
          "name": "stdout",
          "text": [
            "inserisci il tuo reddito29000\n",
            "la tassa che devi pagare è:  4350.0\n"
          ]
        }
      ]
    },
    {
      "cell_type": "code",
      "source": [
        "#un negozio vuole incenttivare aquisti incentifvando sconti maggiori a chi spende di piu\n",
        "# se un cliente fino a 100 euro viene fatto lo sconto del 15%\n",
        "#se spende da 100 a 200 euro lo sconto è del 20%\n",
        "#se spende da 200 a 300 lo sconto è del 40%\n",
        "#se spende oltre 4000 euro lo sconto è del 60%\n",
        "\n",
        "#scrivere un programma che dato totale dell acquisto calcoli il prezzo finale che ilk clienbte deve pagare\n",
        "soldiSpesi = int(input(\"inserisci i soldi che spenderai\"))\n",
        "Sconto = 0\n",
        "\n",
        "if soldiSpesi < 100:\n",
        "  Sconto = (soldiSpesi / 100) * 15                                                                              \n",
        "  soldiSpesi = soldiSpesi - Sconto\n",
        "elif soldiSpesi >= 100 and soldiSpesi < 200:\n",
        "  Sconto = (soldiSpesi / 100) * 20\n",
        "  soldiSpesi = soldiSpesi - Sconto\n",
        "elif soldiSpesi >= 200 and soldiSpesi <= 300:\n",
        "  Sconto = (soldiSpesi / 100) * 40\n",
        "  soldiSpesi = soldiSpesi - Sconto\n",
        "elif soldiSpesi >= 4000:\n",
        "  Sconto = (soldiSpesi / 100) * 60\n",
        "  soldiSpesi = soldiSpesi - Sconto  \n",
        "\n",
        "\n",
        "print(\"devi pagare: \",soldiSpesi) \n"
      ],
      "metadata": {
        "id": "EfQ9xY-mP6fE",
        "colab": {
          "base_uri": "https://localhost:8080/"
        },
        "outputId": "54130692-8bd5-4bc9-89dd-752b239ad419"
      },
      "execution_count": null,
      "outputs": [
        {
          "output_type": "stream",
          "name": "stdout",
          "text": [
            "inserisci i soldi che spenderai99\n",
            "devi pagare:  84.15\n"
          ]
        }
      ]
    }
  ]
}