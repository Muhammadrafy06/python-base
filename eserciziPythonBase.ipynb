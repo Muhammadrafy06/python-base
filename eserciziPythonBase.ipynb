{
  "nbformat": 4,
  "nbformat_minor": 0,
  "metadata": {
    "colab": {
      "provenance": [],
      "collapsed_sections": [],
      "include_colab_link": true
    },
    "kernelspec": {
      "name": "python3",
      "display_name": "Python 3"
    },
    "language_info": {
      "name": "python"
    }
  },
  "cells": [
    {
      "cell_type": "markdown",
      "metadata": {
        "id": "view-in-github",
        "colab_type": "text"
      },
      "source": [
        "<a href=\"https://colab.research.google.com/github/Muhammadrafy06/python/blob/main/eserciziPythonBase.ipynb\" target=\"_parent\"><img src=\"https://colab.research.google.com/assets/colab-badge.svg\" alt=\"Open In Colab\"/></a>"
      ]
    },
    {
      "cell_type": "markdown",
      "source": [
        "Scrivere al di sotto di ogni esercizio il codice richiesto. Al termine, consegnare su classroom il notebook realizzato."
      ],
      "metadata": {
        "id": "u24Wx-pXrz4j"
      }
    },
    {
      "cell_type": "markdown",
      "source": [
        "0. assegnare alle variabili x, y e z i valori 10, 20 e 30 in un'unica istruzione. Assegnare alle variabili a, b e c il valore 100 sempre in un'unica istruzione"
      ],
      "metadata": {
        "id": "ym0EsAfkyxmz"
      }
    },
    {
      "cell_type": "code",
      "source": [
        "#0 \n",
        "x,y,z = 10,20,30\n",
        "a, b, c = 100,100,100\n",
        "\n",
        "print(x,y,z,a,b,c)\n"
      ],
      "metadata": {
        "colab": {
          "base_uri": "https://localhost:8080/"
        },
        "id": "ksKI5egk8_Go",
        "outputId": "bbd137c4-51a7-4281-8a01-e580256dc017"
      },
      "execution_count": null,
      "outputs": [
        {
          "output_type": "stream",
          "name": "stdout",
          "text": [
            "10 20 30 100 100 100\n"
          ]
        }
      ]
    },
    {
      "cell_type": "code",
      "source": [],
      "metadata": {
        "id": "K6G4zgcCzAAz"
      },
      "execution_count": null,
      "outputs": []
    },
    {
      "cell_type": "markdown",
      "source": [
        "1. far inserire all'utente due numeri interi, scambiarli e visualizzarli"
      ],
      "metadata": {
        "id": "_w3ESGmCr7SL"
      }
    },
    {
      "cell_type": "code",
      "source": [
        "#1 \n",
        "num1 = input(\"inserisci numero 1 \")\n",
        "num2 = input(\"inserisci numero 2 \")\n",
        "\n",
        "print(\"numero 2: \", num2, \"numero 1: \", num1)"
      ],
      "metadata": {
        "colab": {
          "base_uri": "https://localhost:8080/"
        },
        "id": "WKwOk7nF9y-H",
        "outputId": "3a9ba0ac-297c-4617-85bb-1b2431d8f120"
      },
      "execution_count": null,
      "outputs": [
        {
          "output_type": "stream",
          "name": "stdout",
          "text": [
            "inserisci numero 1 1000\n",
            "inserisci numero 2 90\n",
            "numero 2:  90 numero 1:  1000\n"
          ]
        }
      ]
    },
    {
      "cell_type": "code",
      "source": [],
      "metadata": {
        "id": "z5zHMYWlseti"
      },
      "execution_count": null,
      "outputs": []
    },
    {
      "cell_type": "markdown",
      "source": [
        "2. far inserire all'utente due numeri e calcolare lìelevamento a potenza del primo per il secondo. Provare poi a vedere qualk è l amasisma potenza del 2 che Python riece a calcolare: lo smartphone è altrettanto potente?"
      ],
      "metadata": {
        "id": "dkojX3qusGJi"
      }
    },
    {
      "cell_type": "code",
      "source": [
        "base = int(input(\"inserisci numero 1 \"))\n",
        "esponente = int(input(\"inserisci numero 2 \"))\n",
        "result = 1\n",
        "\n",
        "while esponente != 0:\n",
        "    result *= base\n",
        "    esponente-=1\n",
        "\n",
        "print(\"Answer = \" + str(result))\n"
      ],
      "metadata": {
        "colab": {
          "base_uri": "https://localhost:8080/"
        },
        "id": "dpQf10Px-TXA",
        "outputId": "b127224c-1a8d-4bbb-e929-7799adcdb6e2"
      },
      "execution_count": null,
      "outputs": [
        {
          "output_type": "stream",
          "name": "stdout",
          "text": [
            "inserisci numero 1 2\n",
            "inserisci numero 2 4\n",
            "Answer = 16\n"
          ]
        }
      ]
    },
    {
      "cell_type": "code",
      "source": [],
      "metadata": {
        "id": "pYzftTyguOAc"
      },
      "execution_count": null,
      "outputs": []
    },
    {
      "cell_type": "markdown",
      "source": [
        "3. far inserire all'utente tre numeri e visualizzare il massimo dei tre"
      ],
      "metadata": {
        "id": "PYqK5w8yseCy"
      }
    },
    {
      "cell_type": "code",
      "source": [
        "#3\n",
        "number1 = int(input(\"inserire numero1 \"))\n",
        "number2 = int(input(\"inserire numero2 \"))\n",
        "number3 = int(input(\"inserire numero3 \"))\n",
        "\n",
        "numeroMassimo = max(number1, number2, number3)\n",
        "\n",
        "print(numeroMassimo)\n"
      ],
      "metadata": {
        "colab": {
          "base_uri": "https://localhost:8080/"
        },
        "id": "5VKXml6k_7-h",
        "outputId": "2344f113-1527-4f52-849d-4efb23f245ce"
      },
      "execution_count": null,
      "outputs": [
        {
          "output_type": "stream",
          "name": "stdout",
          "text": [
            "inserire numero1100\n",
            "inserire numero23\n",
            "inserire numero399\n",
            "100\n"
          ]
        }
      ]
    },
    {
      "cell_type": "code",
      "source": [],
      "metadata": {
        "id": "pJSumYgPsmAb"
      },
      "execution_count": null,
      "outputs": []
    },
    {
      "cell_type": "code",
      "source": [],
      "metadata": {
        "id": "BzxvM0ZHBCiU"
      },
      "execution_count": null,
      "outputs": []
    },
    {
      "cell_type": "markdown",
      "source": [
        "4. dati tre numeri, dire se con quei tre numeri possiamo costruire un triangolo"
      ],
      "metadata": {
        "id": "sJJHEnXXsmeL"
      }
    },
    {
      "cell_type": "code",
      "source": [
        "#4\n",
        "import math\n",
        "while True:\n",
        "     try:\n",
        "         side1 = int(input(\"Please enter the value of side 1: \"))\n",
        "         side2 = int(input(\"Please enter the value of side 2: \"))\n",
        "         side3 = int(input(\"Please enter the value of side 3: \"))\n",
        "     except ValueError:\n",
        "         print(\"Please enter a value next time instead of a letter.\")\n",
        "         continue\n",
        "     else:\n",
        "         break\n",
        "\n",
        "def isValid(side1, side2, side3):\n",
        "     if (side1 + side2 > side3) and (side1 + side3 > side2) and (side2 + side3 > side1):\n",
        "         return True\n",
        "     else:\n",
        "         return False\n",
        "\n",
        "def area(side1, side2, side3):\n",
        "     if isValid(side1, side2, side3):\n",
        "         sides = (side1 + side2 + side3) / 2\n",
        "         TriArea = math.sqrt(sides * (sides - side1) * (sides - side2) * (sides - side3))\n",
        "         print(\"l'area del triangolo con i lati:\", side1, side2, side3, \"è\", TriArea)\n",
        "     else:\n",
        "         print(\"inserire numeri che possano formare un triangolo \")\n",
        "\n",
        "area(side1, side2, side3)"
      ],
      "metadata": {
        "colab": {
          "base_uri": "https://localhost:8080/"
        },
        "id": "htQxVjtZArHw",
        "outputId": "67742694-dfce-4894-e7d3-0e015d7e30ab"
      },
      "execution_count": null,
      "outputs": [
        {
          "output_type": "stream",
          "name": "stdout",
          "text": [
            "Please enter the value of side 1: 5\n",
            "Please enter the value of side 2: 6\n",
            "Please enter the value of side 3: 7\n",
            "l'area del triangolo con i lati:  5 6 7 è 14.696938456699069\n"
          ]
        }
      ]
    },
    {
      "cell_type": "code",
      "source": [],
      "metadata": {
        "id": "u6iI2qeosvlS"
      },
      "execution_count": null,
      "outputs": []
    },
    {
      "cell_type": "markdown",
      "source": [
        "5. far inserire dall'utente le misure di due cateti di un triangolo rettangolo (valori reali) e calcolare l'area del rettangolo e l'ipotenusa"
      ],
      "metadata": {
        "id": "zeDmm2t9sxER"
      }
    },
    {
      "cell_type": "code",
      "source": [
        "import math\n",
        "cateto1 = int(input(\"inserire cateto 1 \"))\n",
        "cateto2 = int(input(\"inserire cateto 2 \"))\n",
        "ipotenusa = math.sqrt(a ** 2 + b ** 2)\n",
        "area = (cateto1 + cateto2 + ipotenusa) / 2\n",
        "print(\"l'area è: \",area, \"con ipotenusa: \", ipotenusa)"
      ],
      "metadata": {
        "colab": {
          "base_uri": "https://localhost:8080/"
        },
        "id": "TaCwdgg1C4A_",
        "outputId": "48200eb1-6b2b-4d5c-a0ce-722908336965"
      },
      "execution_count": null,
      "outputs": [
        {
          "output_type": "stream",
          "name": "stdout",
          "text": [
            "inserire cateto 15\n",
            "inserire cateto 290\n",
            "l'area è:  52.6478150704935 con ipotenusa:  10.295630140987\n"
          ]
        }
      ]
    },
    {
      "cell_type": "code",
      "source": [],
      "metadata": {
        "id": "MJ2jzq4PtSti"
      },
      "execution_count": null,
      "outputs": []
    },
    {
      "cell_type": "markdown",
      "source": [
        "6. far inserire un numero intero dall'utente e dire se è pari o dispari"
      ],
      "metadata": {
        "id": "64dgOKMRtTDq"
      }
    },
    {
      "cell_type": "code",
      "source": [
        "#6\n",
        "numero = int(input(\"inserire un numero qualsiasi \"))\n",
        "\n",
        "if numero % 2 == 0:\n",
        "    print(\"il tuo nunmero è pari\")\n",
        "else:\n",
        "    print(\"il tuo numero è dispari\")"
      ],
      "metadata": {
        "colab": {
          "base_uri": "https://localhost:8080/"
        },
        "id": "x99H2fvbEWKE",
        "outputId": "af9ff358-22b2-4168-c475-7adf4965b745"
      },
      "execution_count": null,
      "outputs": [
        {
          "output_type": "stream",
          "name": "stdout",
          "text": [
            "inserire un numero qualsiasi9\n",
            "dispari\n"
          ]
        }
      ]
    },
    {
      "cell_type": "code",
      "source": [],
      "metadata": {
        "id": "W7fI6Ej8t8Z6"
      },
      "execution_count": null,
      "outputs": []
    },
    {
      "cell_type": "markdown",
      "source": [
        "7. far inserire all'utente il valore di una temperatura in gradi centigradi e convertirlo in gradi fahrenheit"
      ],
      "metadata": {
        "id": "V16n7CsCuUXC"
      }
    },
    {
      "cell_type": "code",
      "source": [
        "#7\n",
        "celsius = float(input(\"mettere temperatura in celsius \"))  \n",
        "fahrenheit = (celsius* 1.8) + 32  \n",
        "print(\"la tua temperatura celsius in fahrenheit è: \", round(fahrenheit))"
      ],
      "metadata": {
        "colab": {
          "base_uri": "https://localhost:8080/"
        },
        "id": "-ApglhmAE3JM",
        "outputId": "d7db4e36-4bc5-4b39-e9d1-fd4ffd147843"
      },
      "execution_count": null,
      "outputs": [
        {
          "output_type": "stream",
          "name": "stdout",
          "text": [
            "mettere temperatura in celsius100\n",
            "la tua temperatura celsius in fahrenheit è:  212.0\n"
          ]
        }
      ]
    },
    {
      "cell_type": "code",
      "source": [],
      "metadata": {
        "id": "DUlV468iuhE7"
      },
      "execution_count": null,
      "outputs": []
    },
    {
      "cell_type": "code",
      "source": [],
      "metadata": {
        "id": "Z4RBmc_yGWm9"
      },
      "execution_count": null,
      "outputs": []
    },
    {
      "cell_type": "markdown",
      "source": [
        "8. far inserire all'utente il valore di una temperatura in gradi fahrenheit e convertirlo in gradi centigradi"
      ],
      "metadata": {
        "id": "TRbh4pEwuher"
      }
    },
    {
      "cell_type": "code",
      "source": [
        "#7\n",
        "fahrenheit = float(input(\"mettere temperatura in fahrenheit \"))  \n",
        "celsius = (fahrenheit - 32)  / 1.8  \n",
        "print(\"la tua temperatura fahrenheit in celsius è: \", round(celsius))"
      ],
      "metadata": {
        "colab": {
          "base_uri": "https://localhost:8080/"
        },
        "id": "aCqGhoibGdw1",
        "outputId": "943244c0-a4ad-4f46-8157-993062327962"
      },
      "execution_count": null,
      "outputs": [
        {
          "output_type": "stream",
          "name": "stdout",
          "text": [
            "mettere temperatura in fahrenheit200\n",
            "la tua temperatura fahrenheit in celsius è:  93.33333333333333\n"
          ]
        }
      ]
    },
    {
      "cell_type": "code",
      "source": [],
      "metadata": {
        "id": "CNwCDAIFup-K"
      },
      "execution_count": null,
      "outputs": []
    },
    {
      "cell_type": "markdown",
      "source": [
        "9. far inserire all'utente una velocità in Km/h e visualizzare la stessa velocità in metri al secondo"
      ],
      "metadata": {
        "id": "YRjS88gtuqeC"
      }
    },
    {
      "cell_type": "code",
      "source": [
        "#9\n",
        "KMH = float(input(\"inserire i KM/H \"))\n",
        "MS = (KMH * 1000)/3600\n",
        "print(round(KMH), \"in M/S sono: \", round(MS))\n"
      ],
      "metadata": {
        "colab": {
          "base_uri": "https://localhost:8080/"
        },
        "id": "VogNwUWDHSEr",
        "outputId": "49788cd2-851d-4723-9d11-333f917db076"
      },
      "execution_count": null,
      "outputs": [
        {
          "output_type": "stream",
          "name": "stdout",
          "text": [
            "inserire i KM/H90\n",
            "90.0 in M/S sono:  25\n"
          ]
        }
      ]
    },
    {
      "cell_type": "code",
      "source": [],
      "metadata": {
        "id": "Wricx3yyx3tb"
      },
      "execution_count": null,
      "outputs": []
    },
    {
      "cell_type": "markdown",
      "source": [
        "10. far inserire all'utente il raggio di un cerchio e visualizzarne il diametro e l'area"
      ],
      "metadata": {
        "id": "ltgIq2OGx4I7"
      }
    },
    {
      "cell_type": "code",
      "source": [
        "#10\n",
        "pi = 3.14\n",
        "raggio = float(input(\"inserisci il raggio:\"))\n",
        " \n",
        "areaCerchio = pi * raggio * raggio\n",
        "circle_circum = 2 * pi * raggio\n",
        "diametro = 2*raggio \n",
        "    \n",
        "print(\"area del cerchio = %.3f\" %areaCerchio)\n",
        " \n",
        "#print(\"circonferenza del cerchio = %.3f\" %circle_circum)\n",
        "print(\"diametro del cerchio = %.3f\" % diametro )"
      ],
      "metadata": {
        "colab": {
          "base_uri": "https://localhost:8080/"
        },
        "id": "naTBpEriID6l",
        "outputId": "c4d882de-3d88-43fb-bfe3-9c853eddf743"
      },
      "execution_count": null,
      "outputs": [
        {
          "output_type": "stream",
          "name": "stdout",
          "text": [
            "inserisci il raggio:80\n",
            "area del cerchio = 20096.000\n",
            "diametro del cerchio = 160.000\n"
          ]
        }
      ]
    },
    {
      "cell_type": "code",
      "source": [],
      "metadata": {
        "id": "BpbAnnUOzjGD"
      },
      "execution_count": null,
      "outputs": []
    },
    {
      "cell_type": "markdown",
      "source": [
        "11. far inserire all'utente il suo nome e poi il suo cognome e visualizzare il suo cognome e il suo nome separati da uno spazio"
      ],
      "metadata": {
        "id": "M18Obb-Gzjdq"
      }
    },
    {
      "cell_type": "code",
      "source": [
        "#11\n",
        "nome = str(input(\"inserire il nome \"))\n",
        "cognome = str(input(\"inserire il cognome \"))\n",
        "\n",
        "print(\" \".join([nome, cognome]))"
      ],
      "metadata": {
        "colab": {
          "base_uri": "https://localhost:8080/"
        },
        "id": "qE9gqWcbJm_1",
        "outputId": "a4ed43c9-ad8b-4493-a753-1c863b32cd97"
      },
      "execution_count": null,
      "outputs": [
        {
          "output_type": "stream",
          "name": "stdout",
          "text": [
            "inserire il nome rafy\n",
            "inserire il cognome muhammad\n",
            "rafy muhammad\n"
          ]
        }
      ]
    },
    {
      "cell_type": "code",
      "source": [],
      "metadata": {
        "id": "w2C_ln0LzwPa"
      },
      "execution_count": null,
      "outputs": []
    },
    {
      "cell_type": "markdown",
      "source": [
        "12. far inserire all'utente un numero e visualizzare il suo valore assoluto"
      ],
      "metadata": {
        "id": "BS9gBYBUzwp7"
      }
    },
    {
      "cell_type": "code",
      "source": [
        "#12\n",
        "numeroInput = int(input(\"inserire un numero qualsiasi \"))\n",
        "if numeroInput >= 0:\n",
        "   print(numeroInput)\n",
        "else:\n",
        "   valoreAssoluto = numeroInput * -1\n",
        "   \n",
        "   print(valoreAssoluto)\n"
      ],
      "metadata": {
        "colab": {
          "base_uri": "https://localhost:8080/"
        },
        "id": "Gb-DxgJdMHcs",
        "outputId": "b51d15e7-a82f-42c9-fb88-142b7e96efb0"
      },
      "execution_count": null,
      "outputs": [
        {
          "output_type": "stream",
          "name": "stdout",
          "text": [
            "inserire un numero qualsiasi 80\n",
            "80\n"
          ]
        }
      ]
    },
    {
      "cell_type": "code",
      "source": [],
      "metadata": {
        "id": "KOZrphgUz89a"
      },
      "execution_count": null,
      "outputs": []
    },
    {
      "cell_type": "markdown",
      "source": [
        "13. far inserire all'utente un voto e controllare che sia compreso tra 1 e 10, estremi inclusi, Se è compreso visualizzare la stringa 'OK' altrimenti visualizzare la stringa 'KO'"
      ],
      "metadata": {
        "id": "j1tl_8INz9ZS"
      }
    },
    {
      "cell_type": "code",
      "source": [
        "#13\n",
        "voto = int(input(\"inserire un voto: \"))\n",
        "if 1 <= voto <= 10:\n",
        "  print(\"OK\")\n",
        "else:\n",
        "  print(\"KO\")  "
      ],
      "metadata": {
        "colab": {
          "base_uri": "https://localhost:8080/"
        },
        "id": "oEhCNZesNZha",
        "outputId": "7d7f66d4-d1d3-4430-814b-ec552f115889"
      },
      "execution_count": null,
      "outputs": [
        {
          "output_type": "stream",
          "name": "stdout",
          "text": [
            "inserire un voto: 8\n",
            "OK\n"
          ]
        }
      ]
    },
    {
      "cell_type": "code",
      "source": [],
      "metadata": {
        "id": "7Cgqx9K20ccr"
      },
      "execution_count": null,
      "outputs": []
    },
    {
      "cell_type": "markdown",
      "source": [
        "14. far inserire all'utente due numeri e dire se uno è multiplo dell'altro. Ad esempio se l'utente inserisse i valori 60 e 15 il programma dovrebbe visualizzare la stringa '60 è un multiplo di 15'. Stessa cosa se l'utente inserisse prima il 15 e poi il 60., Se non sono multipli, visualizzare un messaggio appropriato"
      ],
      "metadata": {
        "id": "3PIY9PvH0c06"
      }
    },
    {
      "cell_type": "code",
      "source": [
        "multiplo1 = 0\n",
        "multiplo2 = 0\n",
        "n = 0;\n",
        "\n",
        "while (n < 1001):\n",
        "\n",
        "      print(\"si\")\n",
        " else:\n",
        "      print(\"no\")\n",
        "\n",
        " n += 1"
      ],
      "metadata": {
        "colab": {
          "base_uri": "https://localhost:8080/",
          "height": 130
        },
        "id": "MnMGcGBqO9rC",
        "outputId": "1e7697c2-9f63-4f46-a728-21821e26fde1"
      },
      "execution_count": null,
      "outputs": [
        {
          "output_type": "error",
          "ename": "SyntaxError",
          "evalue": "ignored",
          "traceback": [
            "\u001b[0;36m  File \u001b[0;32m\"<ipython-input-54-cb9ec6b1b862>\"\u001b[0;36m, line \u001b[0;32m6\u001b[0m\n\u001b[0;31m    if multiplo1 % multiplo2 = 0:\u001b[0m\n\u001b[0m                             ^\u001b[0m\n\u001b[0;31mSyntaxError\u001b[0m\u001b[0;31m:\u001b[0m invalid syntax\n"
          ]
        }
      ]
    },
    {
      "cell_type": "code",
      "source": [],
      "metadata": {
        "id": "VS8xJJQZ1FfS"
      },
      "execution_count": null,
      "outputs": []
    },
    {
      "cell_type": "markdown",
      "source": [
        "15. far inserire all'utente la durata di un periodi di tempo in ore, minuti e secodni e convertirlo in secondi"
      ],
      "metadata": {
        "id": "444w9p761F7j"
      }
    },
    {
      "cell_type": "code",
      "source": [
        "#15\n",
        "ore = int(input(\"inserire le ore \"))\n",
        "minuti = int(input(\"inserire i minuti \"))\n",
        "secondi = int(input(\"inserire le secondi 3\"))\n",
        "\n",
        "stringTime = str(ore) + \":\" + str(minuti) + \":\" + str(secondi)\n",
        "def get_sec(time_str):\n",
        "   \n",
        "    h, m, s = time_str.split(':')\n",
        "    return int(h) * 3600 + int(m) * 60 + int(s)\n",
        "\n",
        "\n",
        "print(get_sec(stringTime))\n",
        "\n",
        "\n",
        "\n",
        "\n",
        "\n",
        "\n"
      ],
      "metadata": {
        "colab": {
          "base_uri": "https://localhost:8080/"
        },
        "id": "3DSB_xWvQfWi",
        "outputId": "b94c2328-20df-44b9-b10d-df0cd8cfc54d"
      },
      "execution_count": null,
      "outputs": [
        {
          "output_type": "stream",
          "name": "stdout",
          "text": [
            "inserire le ore 1\n",
            "inserire i minuti 30\n",
            "inserire le secondi 5\n",
            "5405\n"
          ]
        }
      ]
    },
    {
      "cell_type": "code",
      "source": [],
      "metadata": {
        "id": "S0xfdzxW1ijl"
      },
      "execution_count": null,
      "outputs": []
    },
    {
      "cell_type": "markdown",
      "source": [
        "16. far inserire all'utente la durata di un periodo in secondi e convertirlo in ore, minuti e secondi"
      ],
      "metadata": {
        "id": "3KaGzt4U1jA7"
      }
    },
    {
      "cell_type": "code",
      "source": [
        "# Python Program to Convert seconds\n",
        "# into hours, minutes and seconds\n",
        "inputSecondi = int(input(\"inserire i secondi \"))\n",
        "def convert(seconds):\n",
        "    seconds = seconds % (24 * 3600)\n",
        "    hour = seconds // 3600\n",
        "    seconds %= 3600\n",
        "    minutes = seconds // 60\n",
        "    seconds %= 60\n",
        "     \n",
        "    return \"%d:%02d:%02d\" % (hour, minutes, seconds)\n",
        "     \n",
        "# Driver program\n",
        "\n",
        "print(convert(inputSecondi))"
      ],
      "metadata": {
        "colab": {
          "base_uri": "https://localhost:8080/"
        },
        "id": "YNJBt4zJSCTe",
        "outputId": "dec0f607-a372-4158-daea-527f8ce57f5d"
      },
      "execution_count": null,
      "outputs": [
        {
          "output_type": "stream",
          "name": "stdout",
          "text": [
            "inserire i secondi 100\n",
            "0:01:40\n"
          ]
        }
      ]
    },
    {
      "cell_type": "code",
      "source": [],
      "metadata": {
        "id": "wAwF6xB-10YD"
      },
      "execution_count": null,
      "outputs": []
    }
  ]
}