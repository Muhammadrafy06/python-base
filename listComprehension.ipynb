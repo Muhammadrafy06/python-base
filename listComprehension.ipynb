{
  "nbformat": 4,
  "nbformat_minor": 0,
  "metadata": {
    "colab": {
      "provenance": [],
      "collapsed_sections": [],
      "authorship_tag": "ABX9TyMiObbeAAuPb+gbeBDtiP+E",
      "include_colab_link": true
    },
    "kernelspec": {
      "name": "python3",
      "display_name": "Python 3"
    },
    "language_info": {
      "name": "python"
    }
  },
  "cells": [
    {
      "cell_type": "markdown",
      "metadata": {
        "id": "view-in-github",
        "colab_type": "text"
      },
      "source": [
        "<a href=\"https://colab.research.google.com/github/Muhammadrafy06/python/blob/main/listComprehension.ipynb\" target=\"_parent\"><img src=\"https://colab.research.google.com/assets/colab-badge.svg\" alt=\"Open In Colab\"/></a>"
      ]
    },
    {
      "cell_type": "markdown",
      "source": [
        "list comprehension - metodo per caricare dati in una lista utilizzando un ciclo for"
      ],
      "metadata": {
        "id": "45bFS0cHZv9N"
      }
    },
    {
      "cell_type": "markdown",
      "source": [
        "per saper usare la list comprehension dobbiamo saper usare i for"
      ],
      "metadata": {
        "id": "fABgbyA6ebLd"
      }
    },
    {
      "cell_type": "code",
      "execution_count": null,
      "metadata": {
        "colab": {
          "base_uri": "https://localhost:8080/"
        },
        "id": "NNOmwFySZj93",
        "outputId": "bc5dcfd3-c3b8-4e64-db1c-c2ebfbb6ceb8"
      },
      "outputs": [
        {
          "output_type": "stream",
          "name": "stdout",
          "text": [
            "apple\n",
            "a\n",
            "p\n",
            "p\n",
            "l\n",
            "e\n",
            "banana\n",
            "b\n",
            "a\n",
            "n\n",
            "a\n",
            "n\n",
            "a\n",
            "cherry\n",
            "c\n",
            "h\n",
            "e\n",
            "r\n",
            "r\n",
            "y\n"
          ]
        }
      ],
      "source": [
        "fruits = [\"apple\", \"banana\", \"cherry\"]\n",
        "for string in fruits:\n",
        "  print(string)\n",
        "  for lettera in string:\n",
        "   print(lettera)"
      ]
    },
    {
      "cell_type": "code",
      "source": [],
      "metadata": {
        "colab": {
          "base_uri": "https://localhost:8080/"
        },
        "id": "WK-WrXADawUd",
        "outputId": "5b30227c-2a2f-4a56-867d-1f76819acce6"
      },
      "execution_count": null,
      "outputs": [
        {
          "output_type": "stream",
          "name": "stdout",
          "text": [
            "b\n",
            "a\n",
            "n\n",
            "a\n",
            "n\n",
            "a\n"
          ]
        }
      ]
    },
    {
      "cell_type": "code",
      "source": [],
      "metadata": {
        "id": "CfG2p0Z-adxU"
      },
      "execution_count": null,
      "outputs": []
    },
    {
      "cell_type": "code",
      "source": [
        "for i in range(10,16):\n",
        "  print(i)\n",
        "print(\"si\")\n",
        "\n",
        "for x in range(21,10,-2):\n",
        "  print(x)"
      ],
      "metadata": {
        "colab": {
          "base_uri": "https://localhost:8080/"
        },
        "id": "LElwwgeUc1F7",
        "outputId": "f5a15800-2e2f-48fa-c1b5-15d5eeb47bbc"
      },
      "execution_count": null,
      "outputs": [
        {
          "output_type": "stream",
          "name": "stdout",
          "text": [
            "10\n",
            "11\n",
            "12\n",
            "13\n",
            "14\n",
            "15\n",
            "si\n",
            "21\n",
            "19\n",
            "17\n",
            "15\n",
            "13\n",
            "11\n"
          ]
        }
      ]
    },
    {
      "cell_type": "markdown",
      "source": [
        "inzializzare una list con i primi dieci numeri pari"
      ],
      "metadata": {
        "id": "RBwQEL5de5YR"
      }
    },
    {
      "cell_type": "code",
      "source": [
        "lista = [numero for numero in range(0 ,11,2)]\n",
        "print(lista)"
      ],
      "metadata": {
        "colab": {
          "base_uri": "https://localhost:8080/"
        },
        "id": "LRZzB4Q7fCn1",
        "outputId": "539ee564-b1db-428c-f785-3ac782d9dcfc"
      },
      "execution_count": null,
      "outputs": [
        {
          "output_type": "stream",
          "name": "stdout",
          "text": [
            "[0, 2, 4, 6, 8, 10]\n"
          ]
        }
      ]
    },
    {
      "cell_type": "markdown",
      "source": [
        "inizializzare una lista con i numeri da 1000 a 2000(estremi inclusi)\n",
        "inizializzare una lista con i numeri da 100 a 0(estremi inclusi)\n"
      ],
      "metadata": {
        "id": "gJTqnjG1gSs-"
      }
    },
    {
      "cell_type": "code",
      "source": [
        "lista1 = [numero for numero in range(1000,2001)]\n",
        "print(lista1)"
      ],
      "metadata": {
        "colab": {
          "base_uri": "https://localhost:8080/"
        },
        "id": "ahHJnMnrgcTB",
        "outputId": "2a40367f-6196-41c0-9e51-e2d317d3cde4"
      },
      "execution_count": null,
      "outputs": [
        {
          "output_type": "stream",
          "name": "stdout",
          "text": [
            "[1000, 1001, 1002, 1003, 1004, 1005, 1006, 1007, 1008, 1009, 1010, 1011, 1012, 1013, 1014, 1015, 1016, 1017, 1018, 1019, 1020, 1021, 1022, 1023, 1024, 1025, 1026, 1027, 1028, 1029, 1030, 1031, 1032, 1033, 1034, 1035, 1036, 1037, 1038, 1039, 1040, 1041, 1042, 1043, 1044, 1045, 1046, 1047, 1048, 1049, 1050, 1051, 1052, 1053, 1054, 1055, 1056, 1057, 1058, 1059, 1060, 1061, 1062, 1063, 1064, 1065, 1066, 1067, 1068, 1069, 1070, 1071, 1072, 1073, 1074, 1075, 1076, 1077, 1078, 1079, 1080, 1081, 1082, 1083, 1084, 1085, 1086, 1087, 1088, 1089, 1090, 1091, 1092, 1093, 1094, 1095, 1096, 1097, 1098, 1099, 1100, 1101, 1102, 1103, 1104, 1105, 1106, 1107, 1108, 1109, 1110, 1111, 1112, 1113, 1114, 1115, 1116, 1117, 1118, 1119, 1120, 1121, 1122, 1123, 1124, 1125, 1126, 1127, 1128, 1129, 1130, 1131, 1132, 1133, 1134, 1135, 1136, 1137, 1138, 1139, 1140, 1141, 1142, 1143, 1144, 1145, 1146, 1147, 1148, 1149, 1150, 1151, 1152, 1153, 1154, 1155, 1156, 1157, 1158, 1159, 1160, 1161, 1162, 1163, 1164, 1165, 1166, 1167, 1168, 1169, 1170, 1171, 1172, 1173, 1174, 1175, 1176, 1177, 1178, 1179, 1180, 1181, 1182, 1183, 1184, 1185, 1186, 1187, 1188, 1189, 1190, 1191, 1192, 1193, 1194, 1195, 1196, 1197, 1198, 1199, 1200, 1201, 1202, 1203, 1204, 1205, 1206, 1207, 1208, 1209, 1210, 1211, 1212, 1213, 1214, 1215, 1216, 1217, 1218, 1219, 1220, 1221, 1222, 1223, 1224, 1225, 1226, 1227, 1228, 1229, 1230, 1231, 1232, 1233, 1234, 1235, 1236, 1237, 1238, 1239, 1240, 1241, 1242, 1243, 1244, 1245, 1246, 1247, 1248, 1249, 1250, 1251, 1252, 1253, 1254, 1255, 1256, 1257, 1258, 1259, 1260, 1261, 1262, 1263, 1264, 1265, 1266, 1267, 1268, 1269, 1270, 1271, 1272, 1273, 1274, 1275, 1276, 1277, 1278, 1279, 1280, 1281, 1282, 1283, 1284, 1285, 1286, 1287, 1288, 1289, 1290, 1291, 1292, 1293, 1294, 1295, 1296, 1297, 1298, 1299, 1300, 1301, 1302, 1303, 1304, 1305, 1306, 1307, 1308, 1309, 1310, 1311, 1312, 1313, 1314, 1315, 1316, 1317, 1318, 1319, 1320, 1321, 1322, 1323, 1324, 1325, 1326, 1327, 1328, 1329, 1330, 1331, 1332, 1333, 1334, 1335, 1336, 1337, 1338, 1339, 1340, 1341, 1342, 1343, 1344, 1345, 1346, 1347, 1348, 1349, 1350, 1351, 1352, 1353, 1354, 1355, 1356, 1357, 1358, 1359, 1360, 1361, 1362, 1363, 1364, 1365, 1366, 1367, 1368, 1369, 1370, 1371, 1372, 1373, 1374, 1375, 1376, 1377, 1378, 1379, 1380, 1381, 1382, 1383, 1384, 1385, 1386, 1387, 1388, 1389, 1390, 1391, 1392, 1393, 1394, 1395, 1396, 1397, 1398, 1399, 1400, 1401, 1402, 1403, 1404, 1405, 1406, 1407, 1408, 1409, 1410, 1411, 1412, 1413, 1414, 1415, 1416, 1417, 1418, 1419, 1420, 1421, 1422, 1423, 1424, 1425, 1426, 1427, 1428, 1429, 1430, 1431, 1432, 1433, 1434, 1435, 1436, 1437, 1438, 1439, 1440, 1441, 1442, 1443, 1444, 1445, 1446, 1447, 1448, 1449, 1450, 1451, 1452, 1453, 1454, 1455, 1456, 1457, 1458, 1459, 1460, 1461, 1462, 1463, 1464, 1465, 1466, 1467, 1468, 1469, 1470, 1471, 1472, 1473, 1474, 1475, 1476, 1477, 1478, 1479, 1480, 1481, 1482, 1483, 1484, 1485, 1486, 1487, 1488, 1489, 1490, 1491, 1492, 1493, 1494, 1495, 1496, 1497, 1498, 1499, 1500, 1501, 1502, 1503, 1504, 1505, 1506, 1507, 1508, 1509, 1510, 1511, 1512, 1513, 1514, 1515, 1516, 1517, 1518, 1519, 1520, 1521, 1522, 1523, 1524, 1525, 1526, 1527, 1528, 1529, 1530, 1531, 1532, 1533, 1534, 1535, 1536, 1537, 1538, 1539, 1540, 1541, 1542, 1543, 1544, 1545, 1546, 1547, 1548, 1549, 1550, 1551, 1552, 1553, 1554, 1555, 1556, 1557, 1558, 1559, 1560, 1561, 1562, 1563, 1564, 1565, 1566, 1567, 1568, 1569, 1570, 1571, 1572, 1573, 1574, 1575, 1576, 1577, 1578, 1579, 1580, 1581, 1582, 1583, 1584, 1585, 1586, 1587, 1588, 1589, 1590, 1591, 1592, 1593, 1594, 1595, 1596, 1597, 1598, 1599, 1600, 1601, 1602, 1603, 1604, 1605, 1606, 1607, 1608, 1609, 1610, 1611, 1612, 1613, 1614, 1615, 1616, 1617, 1618, 1619, 1620, 1621, 1622, 1623, 1624, 1625, 1626, 1627, 1628, 1629, 1630, 1631, 1632, 1633, 1634, 1635, 1636, 1637, 1638, 1639, 1640, 1641, 1642, 1643, 1644, 1645, 1646, 1647, 1648, 1649, 1650, 1651, 1652, 1653, 1654, 1655, 1656, 1657, 1658, 1659, 1660, 1661, 1662, 1663, 1664, 1665, 1666, 1667, 1668, 1669, 1670, 1671, 1672, 1673, 1674, 1675, 1676, 1677, 1678, 1679, 1680, 1681, 1682, 1683, 1684, 1685, 1686, 1687, 1688, 1689, 1690, 1691, 1692, 1693, 1694, 1695, 1696, 1697, 1698, 1699, 1700, 1701, 1702, 1703, 1704, 1705, 1706, 1707, 1708, 1709, 1710, 1711, 1712, 1713, 1714, 1715, 1716, 1717, 1718, 1719, 1720, 1721, 1722, 1723, 1724, 1725, 1726, 1727, 1728, 1729, 1730, 1731, 1732, 1733, 1734, 1735, 1736, 1737, 1738, 1739, 1740, 1741, 1742, 1743, 1744, 1745, 1746, 1747, 1748, 1749, 1750, 1751, 1752, 1753, 1754, 1755, 1756, 1757, 1758, 1759, 1760, 1761, 1762, 1763, 1764, 1765, 1766, 1767, 1768, 1769, 1770, 1771, 1772, 1773, 1774, 1775, 1776, 1777, 1778, 1779, 1780, 1781, 1782, 1783, 1784, 1785, 1786, 1787, 1788, 1789, 1790, 1791, 1792, 1793, 1794, 1795, 1796, 1797, 1798, 1799, 1800, 1801, 1802, 1803, 1804, 1805, 1806, 1807, 1808, 1809, 1810, 1811, 1812, 1813, 1814, 1815, 1816, 1817, 1818, 1819, 1820, 1821, 1822, 1823, 1824, 1825, 1826, 1827, 1828, 1829, 1830, 1831, 1832, 1833, 1834, 1835, 1836, 1837, 1838, 1839, 1840, 1841, 1842, 1843, 1844, 1845, 1846, 1847, 1848, 1849, 1850, 1851, 1852, 1853, 1854, 1855, 1856, 1857, 1858, 1859, 1860, 1861, 1862, 1863, 1864, 1865, 1866, 1867, 1868, 1869, 1870, 1871, 1872, 1873, 1874, 1875, 1876, 1877, 1878, 1879, 1880, 1881, 1882, 1883, 1884, 1885, 1886, 1887, 1888, 1889, 1890, 1891, 1892, 1893, 1894, 1895, 1896, 1897, 1898, 1899, 1900, 1901, 1902, 1903, 1904, 1905, 1906, 1907, 1908, 1909, 1910, 1911, 1912, 1913, 1914, 1915, 1916, 1917, 1918, 1919, 1920, 1921, 1922, 1923, 1924, 1925, 1926, 1927, 1928, 1929, 1930, 1931, 1932, 1933, 1934, 1935, 1936, 1937, 1938, 1939, 1940, 1941, 1942, 1943, 1944, 1945, 1946, 1947, 1948, 1949, 1950, 1951, 1952, 1953, 1954, 1955, 1956, 1957, 1958, 1959, 1960, 1961, 1962, 1963, 1964, 1965, 1966, 1967, 1968, 1969, 1970, 1971, 1972, 1973, 1974, 1975, 1976, 1977, 1978, 1979, 1980, 1981, 1982, 1983, 1984, 1985, 1986, 1987, 1988, 1989, 1990, 1991, 1992, 1993, 1994, 1995, 1996, 1997, 1998, 1999, 2000]\n"
          ]
        }
      ]
    },
    {
      "cell_type": "code",
      "source": [
        "lista2 = [x for x in range(100,0,-1)]\n",
        "print(lista2)"
      ],
      "metadata": {
        "colab": {
          "base_uri": "https://localhost:8080/"
        },
        "id": "Q2KpIfCFg4i4",
        "outputId": "5dbb9aac-a47e-4711-90a9-22f70aa4d1b8"
      },
      "execution_count": null,
      "outputs": [
        {
          "output_type": "stream",
          "name": "stdout",
          "text": [
            "[100, 99, 98, 97, 96, 95, 94, 93, 92, 91, 90, 89, 88, 87, 86, 85, 84, 83, 82, 81, 80, 79, 78, 77, 76, 75, 74, 73, 72, 71, 70, 69, 68, 67, 66, 65, 64, 63, 62, 61, 60, 59, 58, 57, 56, 55, 54, 53, 52, 51, 50, 49, 48, 47, 46, 45, 44, 43, 42, 41, 40, 39, 38, 37, 36, 35, 34, 33, 32, 31, 30, 29, 28, 27, 26, 25, 24, 23, 22, 21, 20, 19, 18, 17, 16, 15, 14, 13, 12, 11, 10, 9, 8, 7, 6, 5, 4, 3, 2, 1]\n"
          ]
        }
      ]
    },
    {
      "cell_type": "markdown",
      "source": [
        "scrivere un programma che permette all utente di caricare la lista con i primi n numeri interi, con n inserito dall'utente\n",
        "calcolare la somma degli elemnti presenti nella lista"
      ],
      "metadata": {
        "id": "Zfbm8vY2hYTd"
      }
    },
    {
      "cell_type": "code",
      "source": [
        "numeri = int(input(\"inserire un range\"))\n",
        "lista69 = [f for f in range(1,numeri + 1)]\n",
        "print(lista69)\n",
        "sum(lista69)"
      ],
      "metadata": {
        "colab": {
          "base_uri": "https://localhost:8080/"
        },
        "id": "ci00p0FBhl8i",
        "outputId": "0a25fc1d-27fc-4074-9cc5-59a8ccef52a0"
      },
      "execution_count": null,
      "outputs": [
        {
          "output_type": "stream",
          "name": "stdout",
          "text": [
            "inserire un range6\n",
            "[1, 2, 3, 4, 5, 6]\n"
          ]
        },
        {
          "output_type": "execute_result",
          "data": {
            "text/plain": [
              "21"
            ]
          },
          "metadata": {},
          "execution_count": 23
        }
      ]
    },
    {
      "cell_type": "code",
      "source": [
        "num1 = 10\n",
        "num2 = 8 \n",
        "massimo = num1 if num1 > num2 else num2\n",
        "\n",
        "print(massimo)"
      ],
      "metadata": {
        "colab": {
          "base_uri": "https://localhost:8080/"
        },
        "id": "CgzRCuF-mEK2",
        "outputId": "56a5274e-1d64-4eed-99f6-b98ec37f6d16"
      },
      "execution_count": null,
      "outputs": [
        {
          "output_type": "stream",
          "name": "stdout",
          "text": [
            "10\n"
          ]
        }
      ]
    },
    {
      "cell_type": "markdown",
      "source": [
        "caricare in una lista i primi 100 numeri interi, visualizzare la lista e caricare in un altra lista solo multipli di 5 "
      ],
      "metadata": {
        "id": "VPtj7mc4nROi"
      }
    },
    {
      "cell_type": "code",
      "source": [
        "lista4 = [i for i in range(100)]\n",
        "lista2 = [elemento if elemento % 5 == 0 for elemento in lista4]\n",
        "print(lista2)\n",
        "#for elemento in lista4:\n",
        " #  if elemento % 5 == 0:\n",
        "  #      lista2.append(elemento)\n",
        "\n",
        "\n",
        "print(lista2)"
      ],
      "metadata": {
        "colab": {
          "base_uri": "https://localhost:8080/"
        },
        "id": "xNXNN0WQngJT",
        "outputId": "9bef923e-de59-45d6-fb81-3d00201acdbc"
      },
      "execution_count": null,
      "outputs": [
        {
          "output_type": "stream",
          "name": "stdout",
          "text": [
            "[0, 5, 10, 15, 20, 25, 30, 35, 40, 45, 50, 55, 60, 65, 70, 75, 80, 85, 90, 95]\n"
          ]
        }
      ]
    },
    {
      "cell_type": "markdown",
      "source": [
        "prendere in considerazione i dati su temperature e precipitazioni della verifica e trovare \n",
        "1) le ore in cui la probabilità di precipitazione è 0\n",
        "2) lie ore in cui la temperatura è superiore a 20 gradi"
      ],
      "metadata": {
        "id": "UoPyfUZNrCpd"
      }
    },
    {
      "cell_type": "code",
      "source": [
        "t = [11,11,10,9,11,12,12,12,13,14,15,17,19,21,24,24,24,22,20,18,16,14,12,11]\n",
        "p = [90,90,90,70,70,30,30,10,10,0,0,0,0,0,0,0,0,0,0,5,10,15,20,25]\n",
        "ora = 0\n",
        "for x in p:\n",
        "\n",
        "  if x == 0:\n",
        "     print(ora)\n",
        "  ora += 1   \n",
        " \n",
        "\n",
        "\n",
        "\n",
        "\n"
      ],
      "metadata": {
        "colab": {
          "base_uri": "https://localhost:8080/"
        },
        "id": "_p8qmrlWrbPC",
        "outputId": "8793bff1-c63e-43f1-98b5-a40872c5745b"
      },
      "execution_count": null,
      "outputs": [
        {
          "output_type": "stream",
          "name": "stdout",
          "text": [
            "9\n",
            "10\n",
            "11\n",
            "12\n",
            "13\n",
            "14\n",
            "15\n",
            "16\n",
            "17\n",
            "18\n"
          ]
        }
      ]
    },
    {
      "cell_type": "markdown",
      "source": [
        "scrivere un programma che aumenti di un grado di temperatura tuttle le temperature comprese tra le 10 e le 18\n",
        "\n",
        "scrivere un programma che conti il numero di volte in cui la temperatura è stata maggiore di 15 gradi e minore di 20.\n",
        "\n",
        "scrivere un programma che per ogni ora sommi i valori dalla temperatura e quelle delle precipitazioni"
      ],
      "metadata": {
        "id": "ysq5UKkOwBYK"
      }
    },
    {
      "cell_type": "code",
      "source": [
        "#1 \n",
        "t = [11,11,10,9,11,12,12,12,13,14,15,17,19,21,24,24,24,22,20,18,16,14,12,11]\n",
        "lista12 = []\n",
        "for s in t:\n",
        "  if(s <= 18 and s >= 10):\n",
        "    s += 1\n",
        "    print(s)\n",
        "\n"
      ],
      "metadata": {
        "colab": {
          "base_uri": "https://localhost:8080/"
        },
        "id": "deTX2TKeI7bB",
        "outputId": "b131bf85-a7a3-48b1-fcf9-d7775f50bb60"
      },
      "execution_count": null,
      "outputs": [
        {
          "output_type": "stream",
          "name": "stdout",
          "text": [
            "12\n",
            "12\n",
            "11\n",
            "12\n",
            "13\n",
            "13\n",
            "13\n",
            "14\n",
            "15\n",
            "16\n",
            "18\n",
            "19\n",
            "17\n",
            "15\n",
            "13\n",
            "12\n"
          ]
        }
      ]
    },
    {
      "cell_type": "code",
      "source": [
        "#2\n",
        "t = [11,11,10,9,11,12,12,12,13,14,15,17,19,21,24,24,24,22,20,18,16,14,12,11]\n",
        "numeroVolte = 0\n",
        "for a in t:\n",
        "  if(a <= 18 and a >= 10):\n",
        "    numeroVolte += 1\n",
        "    print(a)\n",
        "\n"
      ],
      "metadata": {
        "id": "siOzBpZ_KSiD"
      },
      "execution_count": null,
      "outputs": []
    },
    {
      "cell_type": "code",
      "source": [
        "t = [11,11,10,9,11,12,12,12,13,14,15,17,19,21,24,24,24,22,20,18,16,14,12,11]\n",
        "T1 = [t[i] + 1 for i in range(9,18)]\n",
        "print(t)\n",
        "print(T1)"
      ],
      "metadata": {
        "colab": {
          "base_uri": "https://localhost:8080/"
        },
        "id": "rGM5JnR6YTfH",
        "outputId": "b4c3ee78-5a07-4fe0-9f10-f20e80b5b75a"
      },
      "execution_count": null,
      "outputs": [
        {
          "output_type": "stream",
          "name": "stdout",
          "text": [
            "[11, 11, 10, 9, 11, 12, 12, 12, 13, 14, 15, 17, 19, 21, 24, 24, 24, 22, 20, 18, 16, 14, 12, 11]\n",
            "[15, 16, 18, 20, 22, 25, 25, 25, 23]\n"
          ]
        }
      ]
    },
    {
      "cell_type": "code",
      "source": [
        "for i in range(9,18):\n",
        " print(i)"
      ],
      "metadata": {
        "colab": {
          "base_uri": "https://localhost:8080/"
        },
        "id": "pd1xPwaHY-9k",
        "outputId": "108b7015-feee-47fe-d157-6b570a9627e9"
      },
      "execution_count": null,
      "outputs": [
        {
          "output_type": "stream",
          "name": "stdout",
          "text": [
            "9\n",
            "10\n",
            "11\n",
            "12\n",
            "13\n",
            "14\n",
            "15\n",
            "16\n",
            "17\n"
          ]
        }
      ]
    },
    {
      "cell_type": "code",
      "source": [
        "for indice in range(9 ,18):\n",
        "  t[indice] += 1\n",
        "\n",
        "print(t)"
      ],
      "metadata": {
        "colab": {
          "base_uri": "https://localhost:8080/"
        },
        "id": "-lWLAT7QZuSi",
        "outputId": "d9006f27-1303-47e6-af2c-eb613eee500d"
      },
      "execution_count": null,
      "outputs": [
        {
          "output_type": "stream",
          "name": "stdout",
          "text": [
            "[11, 11, 10, 9, 11, 12, 12, 12, 13, 16, 17, 19, 21, 23, 26, 26, 26, 24, 20, 18, 16, 14, 12, 11]\n"
          ]
        }
      ]
    },
    {
      "cell_type": "code",
      "source": [
        "#metodo finessi\n",
        "import time\n",
        "start = time.time()\n",
        "t[9:18] = [t[i]+ 1 for i in range(9 ,18)]\n",
        "\n",
        "end = time.time()\n",
        "\n",
        "print(end - start)"
      ],
      "metadata": {
        "colab": {
          "base_uri": "https://localhost:8080/"
        },
        "id": "gw-vpxuda2Ia",
        "outputId": "408515c3-5e8c-4e84-a397-c90891aadf05"
      },
      "execution_count": null,
      "outputs": [
        {
          "output_type": "stream",
          "name": "stdout",
          "text": [
            "0.00013875961303710938\n"
          ]
        }
      ]
    },
    {
      "cell_type": "code",
      "source": [
        "conto = 0\n",
        "for temperatura in t:\n",
        "  if temperatura >= 15 and temperatura <= 20:\n",
        "    conto += 1\n",
        "    print(conto)"
      ],
      "metadata": {
        "id": "BYbQU_GDiGTY"
      },
      "execution_count": null,
      "outputs": []
    },
    {
      "cell_type": "code",
      "source": [
        "for indice in range(0 , len(t)):\n",
        "  t[indice] + p[indice]"
      ],
      "metadata": {
        "colab": {
          "base_uri": "https://localhost:8080/"
        },
        "id": "fEoNTmAdbYWm",
        "outputId": "63ded4f4-8a95-497d-975e-64a9af386393"
      },
      "execution_count": null,
      "outputs": [
        {
          "output_type": "stream",
          "name": "stdout",
          "text": [
            "3.326199930597795e-05\n"
          ]
        }
      ]
    },
    {
      "cell_type": "code",
      "source": [
        "t = [11,11,10,9,11,12,12,12,13,14,15,17,19,21,24,24,24,22,20,18,16,14,12,11]\n",
        "p = [90,90,90,70,70,30,30,10,10,0,0,0,0,0,0,0,0,0,0,5,10,15,20,25]\n",
        "somma =[t[i] + p[i] for i in range(0 , len(t))]\n",
        "print(t)\n",
        "print(p)\n"
      ],
      "metadata": {
        "id": "leJr5UUtkpye"
      },
      "execution_count": null,
      "outputs": []
    },
    {
      "cell_type": "markdown",
      "source": [
        "visualizzare una lista contenente 20 numeri interi casuali compresi tra 20 e 30 "
      ],
      "metadata": {
        "id": "SnGb3RmomY6A"
      }
    },
    {
      "cell_type": "code",
      "source": [
        "import random\n",
        "lista420 = [random.randint(20,30)for i in range(20)]\n",
        "print(lista420)"
      ],
      "metadata": {
        "colab": {
          "base_uri": "https://localhost:8080/"
        },
        "id": "u1LwahLLmixG",
        "outputId": "c78e153c-298f-4962-9732-b93f09c69a2b"
      },
      "execution_count": null,
      "outputs": [
        {
          "output_type": "stream",
          "name": "stdout",
          "text": [
            "[20, 21, 19, 28, 25, 29, 21, 23, 28, 22, 26, 20, 23, 28, 23, 24, 27, 20, 24, 30]\n"
          ]
        }
      ]
    },
    {
      "cell_type": "markdown",
      "source": [
        "generare 100 numeri casuali interi da memorizzare in una lista.\n",
        "creare poi altre 2 liste, una contenente valori pari, altra valori dispari"
      ],
      "metadata": {
        "id": "0Xuf0xfWqQua"
      }
    },
    {
      "cell_type": "code",
      "source": [
        "import random\n",
        "lista100 = [random.randint(1,100) for i in range(5)]\n",
        "listaPari = []\n",
        "listaDispari = []\n",
        "print(\"Numeri\",lista100)\n",
        "for h in lista100:\n",
        "   if h % 2 == 0:\n",
        "     listaPari.append(h)\n",
        "   else:\n",
        "     listaDispari.append(h)\n",
        "\n",
        "print(\"pari\", listaPari)\n",
        "print(\"pari\", listaDispari)"
      ],
      "metadata": {
        "colab": {
          "base_uri": "https://localhost:8080/"
        },
        "id": "GCjzlypFqfJY",
        "outputId": "af9717e1-8aee-4d9f-92f9-bd7a739fe34f"
      },
      "execution_count": null,
      "outputs": [
        {
          "output_type": "stream",
          "name": "stdout",
          "text": [
            "Numeri [39, 56, 38, 91, 32]\n",
            "pari [56, 38, 32]\n",
            "pari [39, 91]\n"
          ]
        }
      ]
    }
  ]
}